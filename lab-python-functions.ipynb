{
 "cells": [
  {
   "cell_type": "markdown",
   "id": "25d7736c-ba17-4aff-b6bb-66eba20fbf4e",
   "metadata": {},
   "source": [
    "# Lab | Functions"
   ]
  },
  {
   "cell_type": "markdown",
   "id": "0c581062-8967-4d93-b06e-62833222f930",
   "metadata": {
    "tags": []
   },
   "source": [
    "## Exercise: Managing Customer Orders with Functions\n",
    "\n",
    "In the previous exercise, you improved the code for managing customer orders by using loops and flow control. Now, let's take it a step further and refactor the code by introducing functions.\n",
    "\n",
    "Follow the steps below to complete the exercise:\n",
    "\n",
    "1. Define a function named `initialize_inventory` that takes `products` as a parameter. Inside the function, implement the code for initializing the inventory dictionary using a loop and user input.\n",
    "\n",
    "2. Define a function named `get_customer_orders` that takes no parameters. Inside the function, implement the code for prompting the user to enter the product names using a loop. The function should return the `customer_orders` set.\n",
    "\n",
    "3. Define a function named `update_inventory` that takes `customer_orders` and `inventory` as parameters. Inside the function, implement the code for updating the inventory dictionary based on the customer orders.\n",
    "\n",
    "4. Define a function named `calculate_order_statistics` that takes `customer_orders` and `products` as parameters. Inside the function, implement the code for calculating the order statistics (total products ordered, and percentage of unique products ordered). The function should return these values.\n",
    "\n",
    "5. Define a function named `print_order_statistics` that takes `order_statistics` as a parameter. Inside the function, implement the code for printing the order statistics.\n",
    "\n",
    "6. Define a function named `print_updated_inventory` that takes `inventory` as a parameter. Inside the function, implement the code for printing the updated inventory.\n",
    "\n",
    "7. Call the functions in the appropriate sequence to execute the program and manage customer orders.\n",
    "\n",
    "Hints for functions:\n",
    "\n",
    "- Consider the input parameters required for each function and their return values.\n",
    "- Utilize function parameters and return values to transfer data between functions.\n",
    "- Test your functions individually to ensure they work correctly.\n",
    "\n",
    "\n"
   ]
  },
  {
   "cell_type": "code",
   "execution_count": 3,
   "id": "6faab85e-3e07-497a-89a3-cd947f906fe5",
   "metadata": {},
   "outputs": [],
   "source": [
    "# 1.\n",
    "def initialize_inventory (products):\n",
    "    inventory={}\n",
    "    for product in products:\n",
    "        n = int(input(\"How many \"+product+\" in inventory ?\"))\n",
    "        inventory[product]=n\n",
    "    return inventory"
   ]
  },
  {
   "cell_type": "code",
   "execution_count": 4,
   "id": "ad41a7a1-75c2-49a9-885a-0ab99099f9a7",
   "metadata": {},
   "outputs": [],
   "source": [
    "# 2.\n",
    "def get_customer_orders():\n",
    "    customer_orders = set()\n",
    "    exit=False\n",
    "    \n",
    "    while not exit:\n",
    "        order = input(\"Write the name of the product you'd like to order.\")\n",
    "        customer_orders.add(order)\n",
    "        again = input(\"Would you like to order another product ? yes/no\")\n",
    "        if again == \"no\":\n",
    "            exit=True\n",
    "            \n",
    "    return customer_orders"
   ]
  },
  {
   "cell_type": "code",
   "execution_count": 5,
   "id": "16e51d83-d0df-4388-b952-7d159bb210fa",
   "metadata": {},
   "outputs": [],
   "source": [
    "# 3.\n",
    "def update_inventory (customer_orders, inventory):\n",
    "    for product in customer_orders:\n",
    "        inventory[product] = inventory[product] - 1"
   ]
  },
  {
   "cell_type": "code",
   "execution_count": 6,
   "id": "db01bbed-7670-47ec-bd2f-951aaa1ca2d9",
   "metadata": {},
   "outputs": [],
   "source": [
    "# 4.\n",
    "def calculate_order_statistics(customer_orders, products):\n",
    "    total_products_ordered = len(customer_orders)\n",
    "    total_products_inventory = 0\n",
    "    for product in products:\n",
    "        total_products_inventory+=inventory[product]\n",
    "    percentage_ordered = (total_products_ordered / total_products_inventory)*100\n",
    "    return total_products_ordered, percentage_ordered"
   ]
  },
  {
   "cell_type": "code",
   "execution_count": 7,
   "id": "b5c441df-16d8-4879-85e4-3233862f4278",
   "metadata": {},
   "outputs": [],
   "source": [
    "# 5.\n",
    "def print_order_statistics(order_statistics):\n",
    "    print(\"Order statistics : \\nTotal Products Ordered:\",order_statistics[0], \"\\nPercentage of Products Ordered :\",order_statistics[1],\"\\n\")"
   ]
  },
  {
   "cell_type": "code",
   "execution_count": 8,
   "id": "1697f7f9-fd7d-4866-998e-1d01eb3ba16f",
   "metadata": {},
   "outputs": [],
   "source": [
    "# 6.\n",
    "def print_updated_inventory(inventory):\n",
    "    for product in inventory:\n",
    "        print(product, \": \", inventory[product])"
   ]
  },
  {
   "cell_type": "code",
   "execution_count": 9,
   "id": "af489d36-27ca-4e0e-8eeb-f852514f8e69",
   "metadata": {},
   "outputs": [
    {
     "name": "stdin",
     "output_type": "stream",
     "text": [
      "How many t-shirt in inventory ? 4\n",
      "How many mug in inventory ? 5\n",
      "How many hat in inventory ? 6\n",
      "How many book in inventory ? 7\n",
      "How many keychain in inventory ? 49\n",
      "Write the name of the product you'd like to order. keychain\n",
      "Would you like to order another product ? yes/no yes\n",
      "Write the name of the product you'd like to order. hat\n",
      "Would you like to order another product ? yes/no no\n"
     ]
    },
    {
     "name": "stdout",
     "output_type": "stream",
     "text": [
      "Order statistics : \n",
      "Total Products Ordered: 2 \n",
      "Percentage of Products Ordered : 2.898550724637681 \n",
      "\n",
      "t-shirt :  4\n",
      "mug :  5\n",
      "hat :  5\n",
      "book :  7\n",
      "keychain :  48\n"
     ]
    }
   ],
   "source": [
    "# 7.\n",
    "products = [\"t-shirt\", \"mug\", \"hat\", \"book\", \"keychain\"]\n",
    "inventory = initialize_inventory(products)\n",
    "customer_orders = get_customer_orders()\n",
    "update_inventory(customer_orders, inventory)\n",
    "order_stats = calculate_order_statistics(customer_orders,products)\n",
    "print_order_statistics(order_stats)\n",
    "print_updated_inventory(inventory)"
   ]
  }
 ],
 "metadata": {
  "kernelspec": {
   "display_name": "Python 3 (ipykernel)",
   "language": "python",
   "name": "python3"
  },
  "language_info": {
   "codemirror_mode": {
    "name": "ipython",
    "version": 3
   },
   "file_extension": ".py",
   "mimetype": "text/x-python",
   "name": "python",
   "nbconvert_exporter": "python",
   "pygments_lexer": "ipython3",
   "version": "3.12.4"
  }
 },
 "nbformat": 4,
 "nbformat_minor": 5
}
